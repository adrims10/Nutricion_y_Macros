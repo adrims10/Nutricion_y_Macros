{
 "cells": [
  {
   "cell_type": "code",
   "execution_count": 25,
   "metadata": {},
   "outputs": [],
   "source": [
    "import requests\n",
    "import pandas as pd\n",
    "import numpy as np\n",
    "import sys\n",
    "import os\n",
    "import psycopg2\n",
    "from psycopg2 import OperationalError, errorcodes, errors \n",
    "sys.path.append(os.path.abspath('../'))\n",
    "from src import soporte_tablas as st\n",
    "import matplotlib.pyplot as plt \n",
    "import seaborn as sns"
   ]
  },
  {
   "cell_type": "code",
   "execution_count": 2,
   "metadata": {},
   "outputs": [],
   "source": [
    "conexion = st.conexion(\"Salud\")\n",
    "cursor = conexion.cursor()"
   ]
  },
  {
   "cell_type": "code",
   "execution_count": null,
   "metadata": {},
   "outputs": [],
   "source": [
    "cursor.execute(\"SELECT * FROM ejercicios;\")\n",
    "datos_ejercicios = cursor.fetchall() \n",
    "columnas_ejercicios = [desc[0] for desc in cursor.description]  \n",
    "df_ejercicios = pd.DataFrame(datos_ejercicios, columns=columnas_ejercicios)  "
   ]
  },
  {
   "cell_type": "code",
   "execution_count": 9,
   "metadata": {},
   "outputs": [
    {
     "data": {
      "text/html": [
       "<div>\n",
       "<style scoped>\n",
       "    .dataframe tbody tr th:only-of-type {\n",
       "        vertical-align: middle;\n",
       "    }\n",
       "\n",
       "    .dataframe tbody tr th {\n",
       "        vertical-align: top;\n",
       "    }\n",
       "\n",
       "    .dataframe thead th {\n",
       "        text-align: right;\n",
       "    }\n",
       "</style>\n",
       "<table border=\"1\" class=\"dataframe\">\n",
       "  <thead>\n",
       "    <tr style=\"text-align: right;\">\n",
       "      <th></th>\n",
       "      <th>id</th>\n",
       "      <th>nombre</th>\n",
       "      <th>tipo</th>\n",
       "      <th>musculo</th>\n",
       "      <th>equipo</th>\n",
       "      <th>dificultad</th>\n",
       "      <th>instrucciones</th>\n",
       "    </tr>\n",
       "  </thead>\n",
       "  <tbody>\n",
       "    <tr>\n",
       "      <th>0</th>\n",
       "      <td>1</td>\n",
       "      <td>Jumping rope</td>\n",
       "      <td>cardio</td>\n",
       "      <td>quadriceps</td>\n",
       "      <td>body_only</td>\n",
       "      <td>intermediate</td>\n",
       "      <td>Hold an end of the rope in each hand. Position...</td>\n",
       "    </tr>\n",
       "    <tr>\n",
       "      <th>1</th>\n",
       "      <td>2</td>\n",
       "      <td>Stair climber</td>\n",
       "      <td>cardio</td>\n",
       "      <td>quadriceps</td>\n",
       "      <td>machine</td>\n",
       "      <td>intermediate</td>\n",
       "      <td>To begin, step onto the stepmill and select th...</td>\n",
       "    </tr>\n",
       "  </tbody>\n",
       "</table>\n",
       "</div>"
      ],
      "text/plain": [
       "   id         nombre    tipo     musculo     equipo    dificultad  \\\n",
       "0   1   Jumping rope  cardio  quadriceps  body_only  intermediate   \n",
       "1   2  Stair climber  cardio  quadriceps    machine  intermediate   \n",
       "\n",
       "                                       instrucciones  \n",
       "0  Hold an end of the rope in each hand. Position...  \n",
       "1  To begin, step onto the stepmill and select th...  "
      ]
     },
     "execution_count": 9,
     "metadata": {},
     "output_type": "execute_result"
    }
   ],
   "source": [
    "df_ejercicios.head(2)               #datos obtenidos de la base de datos. El objetivo es poder filtrar por dificultad \n",
    "                                    #por musculo por tipo para asi encontrar una rutina a corde a tus propositos\n",
    "                                    #por ahora solo tenemos dificultad intermedia el resto de categorias si se han obtenido"
   ]
  },
  {
   "cell_type": "code",
   "execution_count": 15,
   "metadata": {},
   "outputs": [
    {
     "data": {
      "text/plain": [
       "id               9930\n",
       "nombre           9930\n",
       "tipo             9930\n",
       "musculo          9930\n",
       "equipo           9930\n",
       "dificultad       9930\n",
       "instrucciones    9930\n",
       "dtype: int64"
      ]
     },
     "execution_count": 15,
     "metadata": {},
     "output_type": "execute_result"
    }
   ],
   "source": [
    "df_ejercicios.count()               #9930 rutinas."
   ]
  },
  {
   "cell_type": "code",
   "execution_count": 4,
   "metadata": {},
   "outputs": [],
   "source": [
    "cursor.execute(\"SELECT * FROM productos_fit;\")\n",
    "datos_productos_fit = cursor.fetchall()\n",
    "columnas_productos_fit = [desc[0] for desc in cursor.description]\n",
    "df_productos_fit = pd.DataFrame(datos_productos_fit, columns=columnas_productos_fit)"
   ]
  },
  {
   "cell_type": "code",
   "execution_count": 10,
   "metadata": {},
   "outputs": [
    {
     "data": {
      "text/html": [
       "<div>\n",
       "<style scoped>\n",
       "    .dataframe tbody tr th:only-of-type {\n",
       "        vertical-align: middle;\n",
       "    }\n",
       "\n",
       "    .dataframe tbody tr th {\n",
       "        vertical-align: top;\n",
       "    }\n",
       "\n",
       "    .dataframe thead th {\n",
       "        text-align: right;\n",
       "    }\n",
       "</style>\n",
       "<table border=\"1\" class=\"dataframe\">\n",
       "  <thead>\n",
       "    <tr style=\"text-align: right;\">\n",
       "      <th></th>\n",
       "      <th>producto_id</th>\n",
       "      <th>tipo_producto</th>\n",
       "      <th>nombre</th>\n",
       "      <th>precio</th>\n",
       "      <th>cantidad_reseñas</th>\n",
       "      <th>descripcion</th>\n",
       "      <th>rating</th>\n",
       "      <th>peso</th>\n",
       "      <th>unidad</th>\n",
       "      <th>ejercicio_id</th>\n",
       "    </tr>\n",
       "  </thead>\n",
       "  <tbody>\n",
       "    <tr>\n",
       "      <th>0</th>\n",
       "      <td>1</td>\n",
       "      <td>suplemento</td>\n",
       "      <td>Real IsolatePRO</td>\n",
       "      <td>69.9</td>\n",
       "      <td>11.0</td>\n",
       "      <td>Real IsolatePRO presenta un elevado porcentaje...</td>\n",
       "      <td>4.3</td>\n",
       "      <td>2.0</td>\n",
       "      <td>Kg</td>\n",
       "      <td>1</td>\n",
       "    </tr>\n",
       "    <tr>\n",
       "      <th>1</th>\n",
       "      <td>2</td>\n",
       "      <td>suplemento</td>\n",
       "      <td>NaN</td>\n",
       "      <td>76.3</td>\n",
       "      <td>127.0</td>\n",
       "      <td>Whey Pure Fusion de Amix es una proteína obten...</td>\n",
       "      <td>4.7</td>\n",
       "      <td>0.0</td>\n",
       "      <td>NaN</td>\n",
       "      <td>2</td>\n",
       "    </tr>\n",
       "  </tbody>\n",
       "</table>\n",
       "</div>"
      ],
      "text/plain": [
       "   producto_id tipo_producto            nombre  precio  cantidad_reseñas  \\\n",
       "0            1    suplemento   Real IsolatePRO    69.9              11.0   \n",
       "1            2    suplemento               NaN    76.3             127.0   \n",
       "\n",
       "                                         descripcion  rating  peso unidad  \\\n",
       "0  Real IsolatePRO presenta un elevado porcentaje...     4.3   2.0     Kg   \n",
       "1  Whey Pure Fusion de Amix es una proteína obten...     4.7   0.0    NaN   \n",
       "\n",
       "   ejercicio_id  \n",
       "0             1  \n",
       "1             2  "
      ]
     },
     "execution_count": 10,
     "metadata": {},
     "output_type": "execute_result"
    }
   ],
   "source": [
    "df_productos_fit.head(2)                    #datos obtenidos del scrap a la pagina fuertisimo.as_integer_ratio          \n",
    "                                            # tenemos precio las cantidades de reseñas y su rating medio\n",
    "                                            #el peso del suplemento la unida de medida de este "
   ]
  },
  {
   "cell_type": "code",
   "execution_count": 17,
   "metadata": {},
   "outputs": [
    {
     "data": {
      "text/plain": [
       "producto_id         100\n",
       "tipo_producto       100\n",
       "nombre              100\n",
       "precio              100\n",
       "cantidad_reseñas    100\n",
       "descripcion         100\n",
       "rating               96\n",
       "peso                100\n",
       "unidad              100\n",
       "ejercicio_id        100\n",
       "dtype: int64"
      ]
     },
     "execution_count": 17,
     "metadata": {},
     "output_type": "execute_result"
    }
   ],
   "source": [
    "df_productos_fit.count()                    #hemos obtenido 100 productos completos. \n",
    "                                            #rating tiene algun nulo puesto que hay productos que no son reseñados \n",
    "                                            #esta preparado el escrapeo para incluir mas producto pero nuestro objetivo incial \n",
    "                                            #ahora mismo no era ese, por cada click se pueden añadir 20 productos mas siendo el \n",
    "                                            #selector el mismo.\n",
    "                                            #haremos un estudio de precio y satisfacion mas tarde"
   ]
  },
  {
   "cell_type": "code",
   "execution_count": 5,
   "metadata": {},
   "outputs": [],
   "source": [
    "cursor.execute(\"SELECT * FROM productos_fresh;\")\n",
    "datos_productos_fresh = cursor.fetchall()\n",
    "columnas_productos_fresh = [desc[0] for desc in cursor.description]\n",
    "df_productos_fresh = pd.DataFrame(datos_productos_fresh, columns=columnas_productos_fresh)"
   ]
  },
  {
   "cell_type": "code",
   "execution_count": 13,
   "metadata": {},
   "outputs": [
    {
     "data": {
      "text/html": [
       "<div>\n",
       "<style scoped>\n",
       "    .dataframe tbody tr th:only-of-type {\n",
       "        vertical-align: middle;\n",
       "    }\n",
       "\n",
       "    .dataframe tbody tr th {\n",
       "        vertical-align: top;\n",
       "    }\n",
       "\n",
       "    .dataframe thead th {\n",
       "        text-align: right;\n",
       "    }\n",
       "</style>\n",
       "<table border=\"1\" class=\"dataframe\">\n",
       "  <thead>\n",
       "    <tr style=\"text-align: right;\">\n",
       "      <th></th>\n",
       "      <th>id</th>\n",
       "      <th>producto_id</th>\n",
       "      <th>nombre_y_peso</th>\n",
       "      <th>descuentos</th>\n",
       "      <th>precio_actual</th>\n",
       "      <th>precio_sin_descuento</th>\n",
       "    </tr>\n",
       "  </thead>\n",
       "  <tbody>\n",
       "    <tr>\n",
       "      <th>0</th>\n",
       "      <td>1</td>\n",
       "      <td>1</td>\n",
       "      <td>LOTE 2 kg de pechugas de pollo</td>\n",
       "      <td>-20.0</td>\n",
       "      <td>6.39</td>\n",
       "      <td>7.99</td>\n",
       "    </tr>\n",
       "    <tr>\n",
       "      <th>1</th>\n",
       "      <td>2</td>\n",
       "      <td>2</td>\n",
       "      <td>Salmón por medios o enteros peso aproximado pi...</td>\n",
       "      <td>-8.0</td>\n",
       "      <td>10.99</td>\n",
       "      <td>11.99</td>\n",
       "    </tr>\n",
       "  </tbody>\n",
       "</table>\n",
       "</div>"
      ],
      "text/plain": [
       "   id  producto_id                                      nombre_y_peso  \\\n",
       "0   1            1                     LOTE 2 kg de pechugas de pollo   \n",
       "1   2            2  Salmón por medios o enteros peso aproximado pi...   \n",
       "\n",
       "   descuentos  precio_actual  precio_sin_descuento  \n",
       "0       -20.0           6.39                  7.99  \n",
       "1        -8.0          10.99                 11.99  "
      ]
     },
     "execution_count": 13,
     "metadata": {},
     "output_type": "execute_result"
    }
   ],
   "source": [
    "df_productos_fresh.head(2)                  #resultados de scrap de ahorra mas de productos de la seccion frescos.\n",
    "                                            #nombre y peso algunos no ponen peso o lo ponen aprox por lo que no lo hemos separado.3\n",
    "                                            #el descuento de cada producto y los precios."
   ]
  },
  {
   "cell_type": "code",
   "execution_count": 18,
   "metadata": {},
   "outputs": [
    {
     "data": {
      "text/plain": [
       "id                      23\n",
       "producto_id             23\n",
       "nombre_y_peso           23\n",
       "descuentos              23\n",
       "precio_actual           21\n",
       "precio_sin_descuento    21\n",
       "dtype: int64"
      ]
     },
     "execution_count": 18,
     "metadata": {},
     "output_type": "execute_result"
    }
   ],
   "source": [
    "df_productos_fresh.count()                  #hemos obtenido 23 productos completos. \n",
    "                                            #precio actual y precio sin descuento tiene nulos al resultar algun descuento ser 0 \n",
    "                                            #esta preparado el escrapeo para incluir mas producto pero nuestro objetivo incial \n",
    "                                            #ahora mismo no era ese, por cada click se pueden añadir 20 productos mas siendo el \n",
    "                                            #selector el mismo.\n",
    "                                            #haremos un estudio de precio y satisfacion mas tarde"
   ]
  },
  {
   "cell_type": "code",
   "execution_count": 7,
   "metadata": {},
   "outputs": [],
   "source": [
    "cursor.execute(\"SELECT * FROM recetas;\")\n",
    "datos_recetas = cursor.fetchall()\n",
    "columnas_recetas = [desc[0] for desc in cursor.description]\n",
    "df_recetas = pd.DataFrame(datos_recetas, columns=columnas_recetas)"
   ]
  },
  {
   "cell_type": "code",
   "execution_count": 12,
   "metadata": {},
   "outputs": [
    {
     "data": {
      "text/html": [
       "<div>\n",
       "<style scoped>\n",
       "    .dataframe tbody tr th:only-of-type {\n",
       "        vertical-align: middle;\n",
       "    }\n",
       "\n",
       "    .dataframe tbody tr th {\n",
       "        vertical-align: top;\n",
       "    }\n",
       "\n",
       "    .dataframe thead th {\n",
       "        text-align: right;\n",
       "    }\n",
       "</style>\n",
       "<table border=\"1\" class=\"dataframe\">\n",
       "  <thead>\n",
       "    <tr style=\"text-align: right;\">\n",
       "      <th></th>\n",
       "      <th>id</th>\n",
       "      <th>producto_id</th>\n",
       "      <th>nombre_compilacion</th>\n",
       "      <th>descripcion_compilacion</th>\n",
       "      <th>idioma</th>\n",
       "      <th>nombre</th>\n",
       "      <th>slug</th>\n",
       "      <th>url_miniatura</th>\n",
       "      <th>url_video</th>\n",
       "      <th>rinde</th>\n",
       "      <th>numero_de_receta</th>\n",
       "    </tr>\n",
       "  </thead>\n",
       "  <tbody>\n",
       "    <tr>\n",
       "      <th>0</th>\n",
       "      <td>1</td>\n",
       "      <td>1</td>\n",
       "      <td>Protein-Packed Snacks</td>\n",
       "      <td>Whether you’re trying to be healthy, pulling a...</td>\n",
       "      <td>eng</td>\n",
       "      <td>Low-Carb Avocado Chicken Salad</td>\n",
       "      <td>low-carb-avocado-chicken-salad</td>\n",
       "      <td>https://img.buzzfeed.com/thumbnailer-prod-us-e...</td>\n",
       "      <td>https://vid.tasty.co/output/121934/hls24_15468...</td>\n",
       "      <td>Servings: 4</td>\n",
       "      <td>4704</td>\n",
       "    </tr>\n",
       "    <tr>\n",
       "      <th>1</th>\n",
       "      <td>2</td>\n",
       "      <td>2</td>\n",
       "      <td>5 Easy &amp; Healthy Avocado Recipes</td>\n",
       "      <td>NaN</td>\n",
       "      <td>eng</td>\n",
       "      <td>Low-Carb Avocado Chicken Salad</td>\n",
       "      <td>low-carb-avocado-chicken-salad</td>\n",
       "      <td>https://img.buzzfeed.com/thumbnailer-prod-us-e...</td>\n",
       "      <td>https://vid.tasty.co/output/121934/hls24_15468...</td>\n",
       "      <td>Servings: 4</td>\n",
       "      <td>4704</td>\n",
       "    </tr>\n",
       "  </tbody>\n",
       "</table>\n",
       "</div>"
      ],
      "text/plain": [
       "   id  producto_id                nombre_compilacion  \\\n",
       "0   1            1             Protein-Packed Snacks   \n",
       "1   2            2  5 Easy & Healthy Avocado Recipes   \n",
       "\n",
       "                             descripcion_compilacion idioma  \\\n",
       "0  Whether you’re trying to be healthy, pulling a...    eng   \n",
       "1                                                NaN    eng   \n",
       "\n",
       "                           nombre                            slug  \\\n",
       "0  Low-Carb Avocado Chicken Salad  low-carb-avocado-chicken-salad   \n",
       "1  Low-Carb Avocado Chicken Salad  low-carb-avocado-chicken-salad   \n",
       "\n",
       "                                       url_miniatura  \\\n",
       "0  https://img.buzzfeed.com/thumbnailer-prod-us-e...   \n",
       "1  https://img.buzzfeed.com/thumbnailer-prod-us-e...   \n",
       "\n",
       "                                           url_video        rinde  \\\n",
       "0  https://vid.tasty.co/output/121934/hls24_15468...  Servings: 4   \n",
       "1  https://vid.tasty.co/output/121934/hls24_15468...  Servings: 4   \n",
       "\n",
       "   numero_de_receta  \n",
       "0              4704  \n",
       "1              4704  "
      ]
     },
     "execution_count": 12,
     "metadata": {},
     "output_type": "execute_result"
    }
   ],
   "source": [
    "df_recetas.head(2)                          #datos obtenidos de api recetas\n",
    "                                            # punto a mejorar, ya tenia el montaje realizado y se me acabaron las llamadas \n",
    "                                            #proximos pasos encontrar una api mejor para este punto.\n",
    "                                            #las recetas estan filtradas para que sean recetas de proteinas, snack, ensalada, healthy..."
   ]
  },
  {
   "cell_type": "code",
   "execution_count": 19,
   "metadata": {},
   "outputs": [
    {
     "data": {
      "text/plain": [
       "id                         29\n",
       "producto_id                29\n",
       "nombre_compilacion         29\n",
       "descripcion_compilacion    29\n",
       "idioma                     29\n",
       "nombre                     29\n",
       "slug                       29\n",
       "url_miniatura              29\n",
       "url_video                  29\n",
       "rinde                      29\n",
       "numero_de_receta           29\n",
       "dtype: int64"
      ]
     },
     "execution_count": 19,
     "metadata": {},
     "output_type": "execute_result"
    }
   ],
   "source": [
    "df_recetas.count()                  #observamos 29 recetas.\n",
    "                                    #Al igual que antes si estabamos preparados para obtener mas datos.\n",
    "                                    #en este caso hemos intentado obtener mas datos, mejoraremos la APi"
   ]
  },
  {
   "cell_type": "markdown",
   "metadata": {},
   "source": [
    "**Estudios de los Precios**"
   ]
  },
  {
   "cell_type": "code",
   "execution_count": 21,
   "metadata": {},
   "outputs": [
    {
     "name": "stdout",
     "output_type": "stream",
     "text": [
      "Precio medio: 37.6307\n",
      "Precio mediano: 30.22\n",
      "Precio máximo: 128.9\n",
      "Precio mínimo: 8.9\n"
     ]
    }
   ],
   "source": [
    "precio_medio = df_productos_fit['precio'].mean()\n",
    "precio_mediano = df_productos_fit['precio'].median()\n",
    "precio_maximo = df_productos_fit['precio'].max()\n",
    "precio_minimo = df_productos_fit['precio'].min()\n",
    "print(\"Precio medio:\", precio_medio)\n",
    "print(\"Precio mediano:\", precio_mediano)\n",
    "print(\"Precio máximo:\", precio_maximo)\n",
    "print(\"Precio mínimo:\", precio_minimo)"
   ]
  },
  {
   "cell_type": "code",
   "execution_count": 30,
   "metadata": {},
   "outputs": [
    {
     "data": {
      "image/png": "[encoded data removed]",
      "text/plain": [
       "<Figure size 1000x500 with 1 Axes>"
      ]
     },
     "metadata": {},
     "output_type": "display_data"
    }
   ],
   "source": [
    "plt.figure(figsize=(10, 5))\n",
    "sns.boxplot(x=df_productos_fit['precio'])\n",
    "plt.title('Distribución de Precios de Suplementos')\n",
    "plt.xlabel('Precio')\n",
    "plt.grid(True)\n",
    "\n",
    "# Agregar líneas para la media, mediana, máximo y mínimo\n",
    "plt.axvline(precio_medio, color='r', linestyle='--', label=f'Media: {precio_medio:.2f}')\n",
    "plt.axvline(precio_mediano, color='g', linestyle='-', label=f'Mediana: {precio_mediano:.2f}')\n",
    "plt.axvline(precio_maximo, color='b', linestyle='-', label=f'Máximo: {precio_maximo:.2f}')\n",
    "plt.axvline(precio_minimo, color='y', linestyle='-', label=f'Mínimo: {precio_minimo:.2f}')\n",
    "\n",
    "# Agregar etiquetas\n",
    "plt.text(precio_medio, 0.15, f'{precio_medio:.2f}', color='r', ha='center', va='center')\n",
    "plt.text(precio_mediano, 0.15, f'{precio_mediano:.2f}', color='g', ha='center', va='center')\n",
    "plt.text(precio_maximo, 0.15, f'{precio_maximo:.2f}', color='b', ha='center', va='center')\n",
    "plt.text(precio_minimo, 0.15, f'{precio_minimo:.2f}', color='y', ha='center', va='center')\n",
    "\n",
    "# Mostrar la leyenda\n",
    "plt.legend()\n",
    "\n",
    "# Mostrar el gráfico\n",
    "plt.show()"
   ]
  },
  {
   "cell_type": "markdown",
   "metadata": {},
   "source": [
    "Q1 en el min , Q2 mediana, Q3=40  Q4 final de la caja \n",
    "El 75% de los valores en el conjunto de datos son menores o iguales a Q3\n",
    " "
   ]
  },
  {
   "cell_type": "code",
   "execution_count": 32,
   "metadata": {},
   "outputs": [
    {
     "name": "stdout",
     "output_type": "stream",
     "text": [
      "Rating medio: 4.658333333333334\n",
      "Rating mediano: 4.7\n",
      "Rating máximo: 5.0\n",
      "Rating mínimo: 4.0\n"
     ]
    }
   ],
   "source": [
    "rating_medio = df_productos_fit['rating'].mean()\n",
    "rating_mediano = df_productos_fit['rating'].median()\n",
    "rating_maximo = df_productos_fit['rating'].max()\n",
    "rating_minimo = df_productos_fit['rating'].min()\n",
    "\n",
    "print(\"Rating medio:\", rating_medio)\n",
    "print(\"Rating mediano:\", rating_mediano)                       #satisfaccion con respecto a los precios de los suplementos\n",
    "print(\"Rating máximo:\", rating_maximo)\n",
    "print(\"Rating mínimo:\", rating_minimo)\n"
   ]
  },
  {
   "cell_type": "code",
   "execution_count": 33,
   "metadata": {},
   "outputs": [
    {
     "data": {
      "image/png": "[encoded data removed]",
      "text/plain": [
       "<Figure size 1000x500 with 1 Axes>"
      ]
     },
     "metadata": {},
     "output_type": "display_data"
    }
   ],
   "source": [
    "plt.figure(figsize=(10, 5))\n",
    "sns.boxplot(x=df_productos_fit['rating'])\n",
    "plt.title('Distribución de Ratings de Suplementos')\n",
    "plt.xlabel('Rating')\n",
    "plt.grid(True)\n",
    "\n",
    "# Agregar líneas para la media, mediana, máximo y mínimo\n",
    "plt.axvline(rating_medio, color='r', linestyle='--', label=f'Media: {rating_medio:.2f}')\n",
    "plt.axvline(rating_mediano, color='g', linestyle='-', label=f'Mediana: {rating_mediano:.2f}')\n",
    "plt.axvline(rating_maximo, color='b', linestyle='-', label=f'Máximo: {rating_maximo:.2f}')\n",
    "plt.axvline(rating_minimo, color='y', linestyle='-', label=f'Mínimo: {rating_minimo:.2f}')\n",
    "\n",
    "# Agregar etiquetas\n",
    "plt.text(rating_medio, 0.15, f'{rating_medio:.2f}', color='r', ha='center', va='center')\n",
    "plt.text(rating_mediano, 0.15, f'{rating_mediano:.2f}', color='g', ha='center', va='center')\n",
    "plt.text(rating_maximo, 0.15, f'{rating_maximo:.2f}', color='b', ha='center', va='center')\n",
    "plt.text(rating_minimo, 0.15, f'{rating_minimo:.2f}', color='y', ha='center', va='center')\n",
    "\n",
    "# Mostrar la leyenda\n",
    "plt.legend()\n",
    "\n",
    "# Mostrar el gráfico\n",
    "plt.show()\n"
   ]
  },
  {
   "cell_type": "code",
   "execution_count": 61,
   "metadata": {},
   "outputs": [],
   "source": [
    "for term in ['protein','Whey']: df_filtrado_protes = df_productos_fit[df_productos_fit['nombre'].str.contains(term, case=False, na=False)]\n"
   ]
  },
  {
   "cell_type": "code",
   "execution_count": null,
   "metadata": {},
   "outputs": [],
   "source": [
    "for termino in ['Creatine']: df_filtrado_creatina = df_productos_fit[df_productos_fit['nombre'].str.contains(termino, case=False, na=False)]\n",
    "for termino in ['L-Carnitine']: df_filtrado_Carnitine= df_productos_fit[df_productos_fit['nombre'].str.contains(termino, case=False, na=False)]\n",
    "for termino in ['BCAA']: df_filtrado_BCAS= df_productos_fit[df_productos_fit['nombre'].str.contains(termino, case=False, na=False)]"
   ]
  },
  {
   "cell_type": "code",
   "execution_count": 69,
   "metadata": {},
   "outputs": [
    {
     "name": "stdout",
     "output_type": "stream",
     "text": [
      "\n",
      "Estadísticas para proteinas:\n",
      "Precio mínimo: 16.92\n",
      "Precio máximo: 18.15\n",
      "Precio medio: 55.70777777777778\n",
      "Precio mediano: 34.9\n"
     ]
    }
   ],
   "source": [
    "minp = df_filtrado_protes['precio'].min()                            #datos para las proteinas solo\n",
    "maxp = df_filtrado_protes['precio'].max() \n",
    "mediap = df_filtrado_protes['precio'].mean() \n",
    "medianap = df_filtrado_protes['precio'].median() \n",
    "print(f\"\\nEstadísticas para proteinas:\") \n",
    "print(f\"Precio mínimo: {min}\") \n",
    "print(f\"Precio máximo: {max}\") \n",
    "print(f\"Precio medio: {mediap}\") \n",
    "print(f\"Precio mediano: {medianap}\")"
   ]
  },
  {
   "cell_type": "code",
   "execution_count": 70,
   "metadata": {},
   "outputs": [
    {
     "name": "stdout",
     "output_type": "stream",
     "text": [
      "\n",
      "Estadísticas para creatina:\n",
      "Precio mínimo: 17.5\n",
      "Precio máximo: 53.9\n",
      "Precio medio: 30.738999999999997\n",
      "Precio mediano: 29.945\n"
     ]
    }
   ],
   "source": [
    "minc = df_filtrado_creatina['precio'].min()                            #datos para las creatina solo\n",
    "maxc = df_filtrado_creatina['precio'].max() \n",
    "mediac = df_filtrado_creatina['precio'].mean() \n",
    "medianac = df_filtrado_creatina['precio'].median() \n",
    "print(f\"\\nEstadísticas para creatina:\") \n",
    "print(f\"Precio mínimo: {minc}\") \n",
    "print(f\"Precio máximo: {maxc}\") \n",
    "print(f\"Precio medio: {mediac}\") \n",
    "print(f\"Precio mediano: {medianac}\")"
   ]
  },
  {
   "cell_type": "code",
   "execution_count": 71,
   "metadata": {},
   "outputs": [
    {
     "name": "stdout",
     "output_type": "stream",
     "text": [
      "\n",
      "Estadísticas para BCAS:\n",
      "Precio mínimo: 16.92\n",
      "Precio máximo: 18.15\n",
      "Precio medio: 26.694\n",
      "Precio mediano: 26.85\n"
     ]
    }
   ],
   "source": [
    "minb = df_filtrado_BCAS['precio'].min()                            #datos para las proteinas solo\n",
    "maxb = df_filtrado_BCAS['precio'].max() \n",
    "mediab = df_filtrado_BCAS['precio'].mean() \n",
    "medianab = df_filtrado_BCAS['precio'].median() \n",
    "print(f\"\\nEstadísticas para BCAS:\") \n",
    "print(f\"Precio mínimo: {min}\") \n",
    "print(f\"Precio máximo: {max}\") \n",
    "print(f\"Precio medio: {mediab}\") \n",
    "print(f\"Precio mediano: {medianab}\")"
   ]
  },
  {
   "cell_type": "code",
   "execution_count": 72,
   "metadata": {},
   "outputs": [
    {
     "name": "stdout",
     "output_type": "stream",
     "text": [
      "\n",
      "Estadísticas para L-Carnitine:\n",
      "Precio mínimo: 16.92\n",
      "Precio máximo: 18.15\n",
      "Precio medio: 17.74\n",
      "Precio mediano: 18.15\n"
     ]
    }
   ],
   "source": [
    "minl = df_filtrado_Carnitine['precio'].min()                            #datos para las proteinas solo\n",
    "maxl = df_filtrado_Carnitine['precio'].max() \n",
    "medial = df_filtrado_Carnitine['precio'].mean() \n",
    "medianal = df_filtrado_Carnitine['precio'].median() \n",
    "print(f\"\\nEstadísticas para L-Carnitine:\") \n",
    "print(f\"Precio mínimo: {min}\") \n",
    "print(f\"Precio máximo: {max}\") \n",
    "print(f\"Precio medio: {medial}\") \n",
    "print(f\"Precio mediano: {medianal}\")"
   ]
  },
  {
   "cell_type": "code",
   "execution_count": 74,
   "metadata": {},
   "outputs": [],
   "source": [
    "etiquetas = ['Proteínas', 'Creatina', 'BCAAs', 'L-Carnitina']\n",
    "minimos = [minp, minc, minb,minl]\n",
    "maximos = [maxp, maxc, maxb,maxl]\n",
    "medias = [mediap, mediac, mediab,medial]\n",
    "medianas = [medianap, medianac, medianab,medianal]"
   ]
  },
  {
   "cell_type": "code",
   "execution_count": 77,
   "metadata": {},
   "outputs": [
    {
     "data": {
      "image/png": "[encoded data removed]",
      "text/plain": [
       "<Figure size 1200x800 with 4 Axes>"
      ]
     },
     "metadata": {},
     "output_type": "display_data"
    }
   ],
   "source": [
    "fig, axs = plt.subplots(2, 2, figsize=(12, 8))\n",
    "axs[0, 0].bar(etiquetas, minimos, color='lightblue')\n",
    "axs[0, 0].set_title('Precio Mínimo')\n",
    "axs[0, 1].bar(etiquetas, maximos, color='salmon')\n",
    "axs[0, 1].set_title('Precio Máximo')\n",
    "axs[1, 0].bar(etiquetas, medias, color='lightgreen')\n",
    "axs[1, 0].set_title('Precio Medio')\n",
    "axs[1, 1].bar(etiquetas, medianas, color='orange')\n",
    "axs[1, 1].set_title('Precio Mediano')\n",
    "\n",
    "# Añadir etiquetas y ajustar el diseño\n",
    "for ax in axs.flat:\n",
    "    ax.set_ylabel('Precio')\n",
    "    ax.set_ylim()  # Ajustar límite superior para visualización\n",
    "\n",
    "plt.tight_layout()\n",
    "plt.show()"
   ]
  },
  {
   "cell_type": "code",
   "execution_count": 79,
   "metadata": {},
   "outputs": [
    {
     "data": {
      "text/html": [
       "<div>\n",
       "<style scoped>\n",
       "    .dataframe tbody tr th:only-of-type {\n",
       "        vertical-align: middle;\n",
       "    }\n",
       "\n",
       "    .dataframe tbody tr th {\n",
       "        vertical-align: top;\n",
       "    }\n",
       "\n",
       "    .dataframe thead th {\n",
       "        text-align: right;\n",
       "    }\n",
       "</style>\n",
       "<table border=\"1\" class=\"dataframe\">\n",
       "  <thead>\n",
       "    <tr style=\"text-align: right;\">\n",
       "      <th></th>\n",
       "      <th>id</th>\n",
       "      <th>producto_id</th>\n",
       "      <th>nombre_y_peso</th>\n",
       "      <th>descuentos</th>\n",
       "      <th>precio_actual</th>\n",
       "      <th>precio_sin_descuento</th>\n",
       "    </tr>\n",
       "  </thead>\n",
       "  <tbody>\n",
       "    <tr>\n",
       "      <th>0</th>\n",
       "      <td>1</td>\n",
       "      <td>1</td>\n",
       "      <td>LOTE 2 kg de pechugas de pollo</td>\n",
       "      <td>-20.0</td>\n",
       "      <td>6.39</td>\n",
       "      <td>7.99</td>\n",
       "    </tr>\n",
       "    <tr>\n",
       "      <th>1</th>\n",
       "      <td>2</td>\n",
       "      <td>2</td>\n",
       "      <td>Salmón por medios o enteros peso aproximado pi...</td>\n",
       "      <td>-8.0</td>\n",
       "      <td>10.99</td>\n",
       "      <td>11.99</td>\n",
       "    </tr>\n",
       "    <tr>\n",
       "      <th>2</th>\n",
       "      <td>3</td>\n",
       "      <td>3</td>\n",
       "      <td>Lubina de ración pieza 400g aprox 2 uds</td>\n",
       "      <td>-30.0</td>\n",
       "      <td>NaN</td>\n",
       "      <td>NaN</td>\n",
       "    </tr>\n",
       "    <tr>\n",
       "      <th>3</th>\n",
       "      <td>4</td>\n",
       "      <td>4</td>\n",
       "      <td>LOTE 2kg de contramuslos de pollo</td>\n",
       "      <td>-20.0</td>\n",
       "      <td>4.79</td>\n",
       "      <td>5.99</td>\n",
       "    </tr>\n",
       "    <tr>\n",
       "      <th>4</th>\n",
       "      <td>5</td>\n",
       "      <td>5</td>\n",
       "      <td>LOTE 2kg de alas de pollo</td>\n",
       "      <td>-20.0</td>\n",
       "      <td>3.99</td>\n",
       "      <td>4.99</td>\n",
       "    </tr>\n",
       "  </tbody>\n",
       "</table>\n",
       "</div>"
      ],
      "text/plain": [
       "   id  producto_id                                      nombre_y_peso  \\\n",
       "0   1            1                     LOTE 2 kg de pechugas de pollo   \n",
       "1   2            2  Salmón por medios o enteros peso aproximado pi...   \n",
       "2   3            3            Lubina de ración pieza 400g aprox 2 uds   \n",
       "3   4            4                  LOTE 2kg de contramuslos de pollo   \n",
       "4   5            5                          LOTE 2kg de alas de pollo   \n",
       "\n",
       "   descuentos  precio_actual  precio_sin_descuento  \n",
       "0       -20.0           6.39                  7.99  \n",
       "1        -8.0          10.99                 11.99  \n",
       "2       -30.0            NaN                   NaN  \n",
       "3       -20.0           4.79                  5.99  \n",
       "4       -20.0           3.99                  4.99  "
      ]
     },
     "execution_count": 79,
     "metadata": {},
     "output_type": "execute_result"
    }
   ],
   "source": [
    "df_productos_fresh.head()"
   ]
  },
  {
   "cell_type": "code",
   "execution_count": 80,
   "metadata": {},
   "outputs": [
    {
     "name": "stdout",
     "output_type": "stream",
     "text": [
      "Estadísticas para 'precio_actual':\n",
      "Precio mínimo: 1.39\n",
      "Precio máximo: 27.99\n",
      "Precio medio: 10.13809523809524\n",
      "Precio mediano: 9.49\n"
     ]
    }
   ],
   "source": [
    "precio_actual = df_productos_fresh['precio_actual']\n",
    "precio_actual_stats = {\n",
    "    'min': precio_actual.min(),\n",
    "    'max': precio_actual.max(),\n",
    "    'media': precio_actual.mean(),\n",
    "    'mediana': precio_actual.median()}\n",
    "\n",
    "print(\"Estadísticas para 'precio_actual':\")\n",
    "print(f\"Precio mínimo: {precio_actual_stats['min']}\")\n",
    "print(f\"Precio máximo: {precio_actual_stats['max']}\")\n",
    "print(f\"Precio medio: {precio_actual_stats['media']}\")\n",
    "print(f\"Precio mediano: {precio_actual_stats['mediana']}\")\n"
   ]
  },
  {
   "cell_type": "code",
   "execution_count": 83,
   "metadata": {},
   "outputs": [
    {
     "name": "stdout",
     "output_type": "stream",
     "text": [
      "\n",
      "Estadísticas para 'precio_sin_descuento':\n",
      "Precio mínimo: 1.79\n",
      "Precio máximo: 29.99\n",
      "Precio medio: 11.746666666666666\n",
      "Precio mediano: 11.99\n"
     ]
    }
   ],
   "source": [
    "precio_sin_descuento = df_productos_fresh['precio_sin_descuento']\n",
    "precio_sin_descuento_stats = {\n",
    "    'min': precio_sin_descuento.min(),\n",
    "    'max': precio_sin_descuento.max(),\n",
    "    'media': precio_sin_descuento.mean(),\n",
    "    'mediana': precio_sin_descuento.median()\n",
    "}\n",
    "\n",
    "print(\"\\nEstadísticas para 'precio_sin_descuento':\")\n",
    "print(f\"Precio mínimo: {precio_sin_descuento_stats['min']}\")\n",
    "print(f\"Precio máximo: {precio_sin_descuento_stats['max']}\")\n",
    "print(f\"Precio medio: {precio_sin_descuento_stats['media']}\")\n",
    "print(f\"Precio mediano: {precio_sin_descuento_stats['mediana']}\")\n"
   ]
  },
  {
   "cell_type": "code",
   "execution_count": 84,
   "metadata": {},
   "outputs": [
    {
     "name": "stdout",
     "output_type": "stream",
     "text": [
      "\n",
      "Estadísticas para 'descuentos':\n",
      "Descuento mínimo: -49.0\n",
      "Descuento máximo: -5.0\n",
      "Descuento medio: -18.47826086956522\n",
      "Descuento mediano: -20.0\n"
     ]
    }
   ],
   "source": [
    "\n",
    "# Cálculo de estadísticas para 'descuentos'\n",
    "descuentos = df_productos_fresh['descuentos']\n",
    "descuentos_stats = {\n",
    "    'min': descuentos.min(),\n",
    "    'max': descuentos.max(),\n",
    "    'media': descuentos.mean(),\n",
    "    'mediana': descuentos.median()\n",
    "}\n",
    "print(\"\\nEstadísticas para 'descuentos':\")\n",
    "print(f\"Descuento maximo: {descuentos_stats['min']}\")\n",
    "print(f\"Descuento min: {descuentos_stats['max']}\")\n",
    "print(f\"Descuento medio: {descuentos_stats['media']}\")\n",
    "print(f\"Descuento mediano: {descuentos_stats['mediana']}\")"
   ]
  },
  {
   "cell_type": "code",
   "execution_count": 86,
   "metadata": {},
   "outputs": [
    {
     "data": {
      "image/png": "[encoded data removed]",
      "text/plain": [
       "<Figure size 1000x1500 with 3 Axes>"
      ]
     },
     "metadata": {},
     "output_type": "display_data"
    }
   ],
   "source": [
    "fig, axs = plt.subplots(3, 1, figsize=(10, 15))\n",
    "\n",
    "# Gráfico para precio_actual\n",
    "axs[0].bar(['Min', 'Max', 'Media', 'Mediana'], \n",
    "            [precio_actual_stats['min'], precio_actual_stats['max'], \n",
    "             precio_actual_stats['media'], precio_actual_stats['mediana']],\n",
    "            color='lightblue')\n",
    "axs[0].set_title('Estadísticas de Precio Actual')\n",
    "axs[0].set_ylabel('Precio')\n",
    "axs[0].set_ylim()  \n",
    "\n",
    "# Gráfico para precio_sin_descuento\n",
    "axs[1].bar(['Min', 'Max', 'Media', 'Mediana'], \n",
    "            [precio_sin_descuento_stats['min'], precio_sin_descuento_stats['max'], \n",
    "             precio_sin_descuento_stats['media'], precio_sin_descuento_stats['mediana']],\n",
    "            color='lightgreen')\n",
    "axs[1].set_title('Estadísticas de Precio Sin Descuento')\n",
    "axs[1].set_ylabel('Precio')\n",
    "axs[1].set_ylim() \n",
    "\n",
    "# Gráfico para descuentos\n",
    "axs[2].bar(['Min', 'Max', 'Media', 'Mediana'], \n",
    "            [descuentos_stats['min'], descuentos_stats['max'], \n",
    "             descuentos_stats['media'], descuentos_stats['mediana']],\n",
    "            color='salmon')\n",
    "axs[2].set_title('Estadísticas de Descuentos')\n",
    "axs[2].set_ylabel('Descuento (%)')\n",
    "\n",
    "# Ajustar diseño\n",
    "plt.tight_layout()\n",
    "plt.show()"
   ]
  },
  {
   "cell_type": "code",
   "execution_count": 97,
   "metadata": {},
   "outputs": [
    {
     "data": {
      "text/html": [
       "<div>\n",
       "<style scoped>\n",
       "    .dataframe tbody tr th:only-of-type {\n",
       "        vertical-align: middle;\n",
       "    }\n",
       "\n",
       "    .dataframe tbody tr th {\n",
       "        vertical-align: top;\n",
       "    }\n",
       "\n",
       "    .dataframe thead th {\n",
       "        text-align: right;\n",
       "    }\n",
       "</style>\n",
       "<table border=\"1\" class=\"dataframe\">\n",
       "  <thead>\n",
       "    <tr style=\"text-align: right;\">\n",
       "      <th></th>\n",
       "      <th>id</th>\n",
       "      <th>producto_id</th>\n",
       "      <th>nombre_y_peso</th>\n",
       "      <th>descuentos</th>\n",
       "      <th>precio_actual</th>\n",
       "      <th>precio_sin_descuento</th>\n",
       "    </tr>\n",
       "  </thead>\n",
       "  <tbody>\n",
       "    <tr>\n",
       "      <th>0</th>\n",
       "      <td>1</td>\n",
       "      <td>1</td>\n",
       "      <td>LOTE 2 kg de pechugas de pollo</td>\n",
       "      <td>-20.0</td>\n",
       "      <td>6.39</td>\n",
       "      <td>7.99</td>\n",
       "    </tr>\n",
       "    <tr>\n",
       "      <th>1</th>\n",
       "      <td>2</td>\n",
       "      <td>2</td>\n",
       "      <td>Salmón por medios o enteros peso aproximado pi...</td>\n",
       "      <td>-8.0</td>\n",
       "      <td>10.99</td>\n",
       "      <td>11.99</td>\n",
       "    </tr>\n",
       "    <tr>\n",
       "      <th>3</th>\n",
       "      <td>4</td>\n",
       "      <td>4</td>\n",
       "      <td>LOTE 2kg de contramuslos de pollo</td>\n",
       "      <td>-20.0</td>\n",
       "      <td>4.79</td>\n",
       "      <td>5.99</td>\n",
       "    </tr>\n",
       "    <tr>\n",
       "      <th>4</th>\n",
       "      <td>5</td>\n",
       "      <td>5</td>\n",
       "      <td>LOTE 2kg de alas de pollo</td>\n",
       "      <td>-20.0</td>\n",
       "      <td>3.99</td>\n",
       "      <td>4.99</td>\n",
       "    </tr>\n",
       "    <tr>\n",
       "      <th>9</th>\n",
       "      <td>10</td>\n",
       "      <td>10</td>\n",
       "      <td>LOTE 2 kg de traseros de pollo</td>\n",
       "      <td>-20.0</td>\n",
       "      <td>3.19</td>\n",
       "      <td>3.99</td>\n",
       "    </tr>\n",
       "    <tr>\n",
       "      <th>11</th>\n",
       "      <td>12</td>\n",
       "      <td>12</td>\n",
       "      <td>LOTE 2kg de jamoncitos de pollo</td>\n",
       "      <td>-20.0</td>\n",
       "      <td>3.99</td>\n",
       "      <td>4.99</td>\n",
       "    </tr>\n",
       "    <tr>\n",
       "      <th>14</th>\n",
       "      <td>15</td>\n",
       "      <td>15</td>\n",
       "      <td>Croquetas de pollo y jamón</td>\n",
       "      <td>-20.0</td>\n",
       "      <td>7.19</td>\n",
       "      <td>8.99</td>\n",
       "    </tr>\n",
       "    <tr>\n",
       "      <th>19</th>\n",
       "      <td>20</td>\n",
       "      <td>20</td>\n",
       "      <td>Repollo</td>\n",
       "      <td>-22.0</td>\n",
       "      <td>1.39</td>\n",
       "      <td>1.79</td>\n",
       "    </tr>\n",
       "  </tbody>\n",
       "</table>\n",
       "</div>"
      ],
      "text/plain": [
       "    id  producto_id                                      nombre_y_peso  \\\n",
       "0    1            1                     LOTE 2 kg de pechugas de pollo   \n",
       "1    2            2  Salmón por medios o enteros peso aproximado pi...   \n",
       "3    4            4                  LOTE 2kg de contramuslos de pollo   \n",
       "4    5            5                          LOTE 2kg de alas de pollo   \n",
       "9   10           10                     LOTE 2 kg de traseros de pollo   \n",
       "11  12           12                    LOTE 2kg de jamoncitos de pollo   \n",
       "14  15           15                         Croquetas de pollo y jamón   \n",
       "19  20           20                                            Repollo   \n",
       "\n",
       "    descuentos  precio_actual  precio_sin_descuento  \n",
       "0        -20.0           6.39                  7.99  \n",
       "1         -8.0          10.99                 11.99  \n",
       "3        -20.0           4.79                  5.99  \n",
       "4        -20.0           3.99                  4.99  \n",
       "9        -20.0           3.19                  3.99  \n",
       "11       -20.0           3.99                  4.99  \n",
       "14       -20.0           7.19                  8.99  \n",
       "19       -22.0           1.39                  1.79  "
      ]
     },
     "execution_count": 97,
     "metadata": {},
     "output_type": "execute_result"
    }
   ],
   "source": [
    "terminos_fresh = ['salmón', 'pollo', 'cerdo']\n",
    "df_filtrado_fresh = df_productos_fresh[df_productos_fresh['nombre_y_peso'].str.contains('|'.join(terminos_fresh), case=False, na=False)]\n",
    "df_filtrado_fresh"
   ]
  },
  {
   "cell_type": "code",
   "execution_count": null,
   "metadata": {},
   "outputs": [
    {
     "name": "stdout",
     "output_type": "stream",
     "text": [
      "Media de descuentos: -18.75\n"
     ]
    }
   ],
   "source": [
    "media_descuentos = df_filtrado_fresh['descuentos'].mean()\n",
    "print(f\"Media de descuentos: {media_descuentos}\")                           #aqui si me da tiempo sacar comparativas de lo que te ahorras \n",
    "                                                                            #con respecto a las categorias."
   ]
  },
  {
   "cell_type": "code",
   "execution_count": 98,
   "metadata": {},
   "outputs": [
    {
     "data": {
      "text/plain": [
       "<matplotlib.legend.Legend at 0x1a75843f920>"
      ]
     },
     "execution_count": 98,
     "metadata": {},
     "output_type": "execute_result"
    },
    {
     "data": {
      "image/png": "[encoded data removed]",
      "text/plain": [
       "<Figure size 1000x600 with 1 Axes>"
      ]
     },
     "metadata": {},
     "output_type": "display_data"
    }
   ],
   "source": [
    "plt.figure(figsize=(10, 6))\n",
    "bar_width = 0.35\n",
    "index = range(len(df_filtrado_fresh))\n",
    "\n",
    "# Gráfico de barras para precios actuales y precios sin descuento\n",
    "plt.bar(index, df_filtrado_fresh['precio_actual'], width=bar_width, label='Precio Actual', color='blue')\n",
    "plt.bar([i + bar_width for i in index],df_filtrado_fresh['precio_sin_descuento'], width=bar_width, label='Precio Sin Descuento', color='orange')\n",
    "\n",
    "# Personalizar gráfico\n",
    "plt.xlabel('Productos')\n",
    "plt.ylabel('Precios')\n",
    "plt.title('Comparativa entre Precio Actual y Precio Sin Descuento')\n",
    "plt.xticks([i + bar_width / 2 for i in index], df_filtrado_fresh['nombre_y_peso'], rotation=45, ha='right')\n",
    "plt.legend()\n"
   ]
  },
  {
   "cell_type": "markdown",
   "metadata": {},
   "source": [
    "Analisis de rutinas y recetas.\n",
    "En este apartado el objetivo sera obtener las rutinas y las recetas que pudieran interesarnos para nuestros objetivos."
   ]
  },
  {
   "cell_type": "code",
   "execution_count": 102,
   "metadata": {},
   "outputs": [
    {
     "data": {
      "text/html": [
       "<div>\n",
       "<style scoped>\n",
       "    .dataframe tbody tr th:only-of-type {\n",
       "        vertical-align: middle;\n",
       "    }\n",
       "\n",
       "    .dataframe tbody tr th {\n",
       "        vertical-align: top;\n",
       "    }\n",
       "\n",
       "    .dataframe thead th {\n",
       "        text-align: right;\n",
       "    }\n",
       "</style>\n",
       "<table border=\"1\" class=\"dataframe\">\n",
       "  <thead>\n",
       "    <tr style=\"text-align: right;\">\n",
       "      <th></th>\n",
       "      <th>id</th>\n",
       "      <th>nombre</th>\n",
       "      <th>tipo</th>\n",
       "      <th>musculo</th>\n",
       "      <th>equipo</th>\n",
       "      <th>dificultad</th>\n",
       "      <th>instrucciones</th>\n",
       "    </tr>\n",
       "  </thead>\n",
       "  <tbody>\n",
       "    <tr>\n",
       "      <th>0</th>\n",
       "      <td>1</td>\n",
       "      <td>Jumping rope</td>\n",
       "      <td>cardio</td>\n",
       "      <td>quadriceps</td>\n",
       "      <td>body_only</td>\n",
       "      <td>intermediate</td>\n",
       "      <td>Hold an end of the rope in each hand. Position...</td>\n",
       "    </tr>\n",
       "    <tr>\n",
       "      <th>1</th>\n",
       "      <td>2</td>\n",
       "      <td>Stair climber</td>\n",
       "      <td>cardio</td>\n",
       "      <td>quadriceps</td>\n",
       "      <td>machine</td>\n",
       "      <td>intermediate</td>\n",
       "      <td>To begin, step onto the stepmill and select th...</td>\n",
       "    </tr>\n",
       "  </tbody>\n",
       "</table>\n",
       "</div>"
      ],
      "text/plain": [
       "   id         nombre    tipo     musculo     equipo    dificultad  \\\n",
       "0   1   Jumping rope  cardio  quadriceps  body_only  intermediate   \n",
       "1   2  Stair climber  cardio  quadriceps    machine  intermediate   \n",
       "\n",
       "                                       instrucciones  \n",
       "0  Hold an end of the rope in each hand. Position...  \n",
       "1  To begin, step onto the stepmill and select th...  "
      ]
     },
     "execution_count": 102,
     "metadata": {},
     "output_type": "execute_result"
    }
   ],
   "source": [
    "df_ejercicios.head(2)"
   ]
  },
  {
   "cell_type": "code",
   "execution_count": 105,
   "metadata": {},
   "outputs": [
    {
     "data": {
      "text/plain": [
       "array(['Jumping rope', 'Stair climber', 'Bicycling', 'Rower',\n",
       "       'Elliptical trainer', 'Stairmaster', 'Burpee',\n",
       "       'Trail Running/Walking', 'Treadmill running'], dtype=object)"
      ]
     },
     "execution_count": 105,
     "metadata": {},
     "output_type": "execute_result"
    }
   ],
   "source": [
    "df_ejercicios['nombre'].unique()"
   ]
  },
  {
   "cell_type": "code",
   "execution_count": 106,
   "metadata": {},
   "outputs": [
    {
     "data": {
      "text/plain": [
       "array(['body_only', 'machine', 'other'], dtype=object)"
      ]
     },
     "execution_count": 106,
     "metadata": {},
     "output_type": "execute_result"
    }
   ],
   "source": [
    "df_ejercicios['equipo'].unique()"
   ]
  },
  {
   "cell_type": "code",
   "execution_count": 108,
   "metadata": {},
   "outputs": [
    {
     "data": {
      "text/plain": [
       "array(['quadriceps', 'middle_back'], dtype=object)"
      ]
     },
     "execution_count": 108,
     "metadata": {},
     "output_type": "execute_result"
    }
   ],
   "source": [
    "df_ejercicios['musculo'].unique()"
   ]
  },
  {
   "cell_type": "markdown",
   "metadata": {},
   "source": [
    "Al estar en una fase incial tenemos muchos ejercicios pero pocos filtros, pero podriamos tener un ejemplo de filtrado asi."
   ]
  },
  {
   "cell_type": "code",
   "execution_count": 111,
   "metadata": {},
   "outputs": [
    {
     "name": "stdout",
     "output_type": "stream",
     "text": [
      "        id              nombre    tipo     musculo   equipo    dificultad  \\\n",
      "1        2       Stair climber  cardio  quadriceps  machine  intermediate   \n",
      "4        5  Elliptical trainer  cardio  quadriceps  machine  intermediate   \n",
      "5        6         Stairmaster  cardio  quadriceps  machine  intermediate   \n",
      "9       10   Treadmill running  cardio  quadriceps  machine  intermediate   \n",
      "11      12       Stair climber  cardio  quadriceps  machine  intermediate   \n",
      "...    ...                 ...     ...         ...      ...           ...   \n",
      "9919  9920   Treadmill running  cardio  quadriceps  machine  intermediate   \n",
      "9921  9922       Stair climber  cardio  quadriceps  machine  intermediate   \n",
      "9924  9925  Elliptical trainer  cardio  quadriceps  machine  intermediate   \n",
      "9925  9926         Stairmaster  cardio  quadriceps  machine  intermediate   \n",
      "9929  9930   Treadmill running  cardio  quadriceps  machine  intermediate   \n",
      "\n",
      "                                          instrucciones  \n",
      "1     To begin, step onto the stepmill and select th...  \n",
      "4     To begin, step onto the elliptical and select ...  \n",
      "5     To begin, step onto the stairmaster and select...  \n",
      "9     To begin, step onto the treadmill and select t...  \n",
      "11    To begin, step onto the stepmill and select th...  \n",
      "...                                                 ...  \n",
      "9919  To begin, step onto the treadmill and select t...  \n",
      "9921  To begin, step onto the stepmill and select th...  \n",
      "9924  To begin, step onto the elliptical and select ...  \n",
      "9925  To begin, step onto the stairmaster and select...  \n",
      "9929  To begin, step onto the treadmill and select t...  \n",
      "\n",
      "[3972 rows x 7 columns]\n"
     ]
    }
   ],
   "source": [
    "df_rutina = df_ejercicios[(df_ejercicios['equipo'] == 'machine') & \n",
    "                 (df_ejercicios['dificultad'] == 'intermediate') & \n",
    "                 (df_ejercicios['musculo'] == 'quadriceps')]\n",
    "\n",
    "print(df_rutina)                                                                    #diseñamos una rutina con maquinas para cuadriceps \n",
    "                                                                                    #dificultad intermedia\n",
    "                                                                                    #Obtenemos 3972 rutinas\n",
    "                                                                                    #podemos filtar por tipo de ejercicio para hacer la\n",
    "                                                                                    #lista mas corta"
   ]
  },
  {
   "cell_type": "markdown",
   "metadata": {},
   "source": [
    "En este punto vamos a analizar las recetas haciendo algo similar a lo que hemos realizado con las rutinas\n",
    "Vamos a ver que receta queremos y nos vamos a quedar con ella."
   ]
  },
  {
   "cell_type": "code",
   "execution_count": 113,
   "metadata": {},
   "outputs": [
    {
     "data": {
      "text/plain": [
       "0                                 Protein-Packed Snacks\n",
       "1                      5 Easy & Healthy Avocado Recipes\n",
       "2                     Healthy And Delicious Appetisers \n",
       "3                Healthy Snacks For Late-night Cravings\n",
       "4          Easy Snacks To Pack For Your Next Beach Trip\n",
       "5                      Low Carb Meals For A Healthy You\n",
       "6                           31 Days 31 Avocado Recipes \n",
       "7          Make Healthy Snacks Tasty With These Recipes\n",
       "8      Recipes For When You Don't Feel Like Working Out\n",
       "9                               Use Your Yogurt Wisely!\n",
       "10                      Tangy & Saucy Spaghetti Recipes\n",
       "11                           Tasty's Best Pasta Recipes\n",
       "12                5 Recipes Straight Out Of Middle East\n",
       "13    Make The Perfect Bowl Of Pasta With These Recipes\n",
       "14                                6 Keto-Friendly Meals\n",
       "15                          5 Easy 2-Ingredient Recipes\n",
       "16                 Keto-Friendly Weekday Dinner Recipes\n",
       "17                                  Easy No-Bake Snacks\n",
       "18                 Food To Eat When You're Feeling Lazy\n",
       "19                    Indulgent Vs Light Dinner Recipes\n",
       "20                                Easy Recipes Under $5\n",
       "21                  No-Fuss Recipes For Those Lazy Days\n",
       "22                     Cheap Vs Expensive 3-Course Meal\n",
       "23                              2 Ingredient Easy Meals\n",
       "24         Recipes For Your Golden Globes Viewing Party\n",
       "25                         Easy Recipes For Girls Night\n",
       "26                                      25 Rice Recipes\n",
       "27                                Tasty Quinoa Recipes!\n",
       "28    6 Homemade Middle Eastern-Inspired Recipes Und...\n",
       "Name: nombre_compilacion, dtype: object"
      ]
     },
     "execution_count": 113,
     "metadata": {},
     "output_type": "execute_result"
    }
   ],
   "source": [
    "df_recetas['nombre_compilacion']                "
   ]
  },
  {
   "cell_type": "code",
   "execution_count": 116,
   "metadata": {},
   "outputs": [
    {
     "data": {
      "text/plain": [
       "array(['Servings: 4', 'Servings: 1', 'Servings: 6-10'], dtype=object)"
      ]
     },
     "execution_count": 116,
     "metadata": {},
     "output_type": "execute_result"
    }
   ],
   "source": [
    "df_recetas['rinde'].unique()                    #La cantida para cuantas persona que se extrae de la receta"
   ]
  },
  {
   "cell_type": "code",
   "execution_count": 117,
   "metadata": {},
   "outputs": [
    {
     "data": {
      "text/plain": [
       "array(['eng', 'und'], dtype=object)"
      ]
     },
     "execution_count": 117,
     "metadata": {},
     "output_type": "execute_result"
    }
   ],
   "source": [
    "df_recetas['idioma'].unique()                   #idioma en el que la queremos "
   ]
  },
  {
   "cell_type": "code",
   "execution_count": 119,
   "metadata": {},
   "outputs": [
    {
     "name": "stdout",
     "output_type": "stream",
     "text": [
      "    id  producto_id                            nombre_compilacion  \\\n",
      "24  24           24  Recipes For Your Golden Globes Viewing Party   \n",
      "25  25           25                  Easy Recipes For Girls Night   \n",
      "\n",
      "                              descripcion_compilacion idioma  \\\n",
      "24  This year, watch The Golden Globes with your f...    eng   \n",
      "25  No girls night is complete without food! Set t...    eng   \n",
      "\n",
      "                                  nombre  \\\n",
      "24  How To Make A Fresh Seacuterie Board   \n",
      "25  How To Make A Fresh Seacuterie Board   \n",
      "\n",
      "                                    slug  \\\n",
      "24  how-to-make-a-fresh-seacuterie-board   \n",
      "25  how-to-make-a-fresh-seacuterie-board   \n",
      "\n",
      "                                        url_miniatura  \\\n",
      "24  https://img.buzzfeed.com/thumbnailer-prod-us-e...   \n",
      "25  https://img.buzzfeed.com/thumbnailer-prod-us-e...   \n",
      "\n",
      "                                            url_video           rinde  \\\n",
      "24  https://vid.tasty.co/output/162704/hls24_15844...  Servings: 6-10   \n",
      "25  https://vid.tasty.co/output/162704/hls24_15844...  Servings: 6-10   \n",
      "\n",
      "    numero_de_receta  \n",
      "24              6095  \n",
      "25              6095  \n"
     ]
    }
   ],
   "source": [
    "#por lo que siguiendo el ejemplo de la rutina podemos hacer un filtrado de ejemplo de recetas.\n",
    "df_receta = df_recetas[(df_recetas['idioma'] == 'eng') & (df_recetas['rinde'].str.contains('1', na=False))]\n",
    "\n",
    "print(df_receta)                        #y aqui obtenemos las recetas con nuestras condiciones con imagenes y urls del video para hacerlo"
   ]
  }
 ],
 "metadata": {
  "kernelspec": {
   "display_name": "Python 3",
   "language": "python",
   "name": "python3"
  },
  "language_info": {
   "codemirror_mode": {
    "name": "ipython",
    "version": 3
   },
   "file_extension": ".py",
   "mimetype": "text/x-python",
   "name": "python",
   "nbconvert_exporter": "python",
   "pygments_lexer": "ipython3",
   "version": "3.12.6"
  }
 },
 "nbformat": 4,
 "nbformat_minor": 2
}
