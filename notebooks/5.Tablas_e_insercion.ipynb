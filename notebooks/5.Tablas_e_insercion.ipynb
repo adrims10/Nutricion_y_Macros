{
 "cells": [
  {
   "cell_type": "code",
   "execution_count": 1,
   "metadata": {},
   "outputs": [],
   "source": [
    "import requests\n",
    "import pandas as pd\n",
    "import numpy as np\n",
    "import sys\n",
    "import os\n",
    "import psycopg2\n",
    "from psycopg2 import OperationalError, errorcodes, errors \n",
    "\n",
    "sys.path.append(os.path.abspath('../'))\n",
    "from src import soporte_tablas as st"
   ]
  },
  {
   "cell_type": "code",
   "execution_count": 2,
   "metadata": {},
   "outputs": [],
   "source": [
    "conexion = st.conexion(\"Salud\")\n",
    "cursor = conexion.cursor()"
   ]
  },
  {
   "cell_type": "code",
   "execution_count": 3,
   "metadata": {},
   "outputs": [
    {
     "name": "stdout",
     "output_type": "stream",
     "text": [
      "Tablas creadas correctamente.\n"
     ]
    }
   ],
   "source": [
    "st.crear_tablas(conexion)"
   ]
  },
  {
   "cell_type": "code",
   "execution_count": 4,
   "metadata": {},
   "outputs": [],
   "source": [
    "df_productos_precios = pd.read_csv('../datos/datos_scrap_ahorra.csv')\n",
    "df_productos_fit = pd.read_csv('../datos/datos_scrap_fuerte.csv')\n",
    "df_recetas = pd.read_csv('../datos/recetas_limpias.csv')\n",
    "df_ejercicios = pd.read_csv('../datos/rutinas.csv')\n"
   ]
  },
  {
   "cell_type": "code",
   "execution_count": 5,
   "metadata": {},
   "outputs": [],
   "source": [
    "df_productos_fit.head()         #reordeno el df puesto que hemos creado la tabla y la insercion asi\n",
    "df_productos_fit = df_productos_fit[['Nombre', 'Precio', 'cantidad de reseñas', 'decripcion', 'rating', 'Peso', 'Unidad']]\n"
   ]
  },
  {
   "cell_type": "code",
   "execution_count": 6,
   "metadata": {},
   "outputs": [],
   "source": [
    "df_productos_precios.head().dtypes\n",
    "df_productos_precios['Descuentos'] = df_productos_precios['Descuentos'].astype(float)\n",
    "df_productos_precios['precio_actual'] = df_productos_precios['precio_actual'].astype(float) \n",
    "df_productos_precios['precio_sin_descuento'] = df_productos_precios['precio_sin_descuento'].astype(float)\n",
    "df_productos_precios['Precio'] = df_productos_precios['Precio'].astype(float)"
   ]
  },
  {
   "cell_type": "code",
   "execution_count": 7,
   "metadata": {},
   "outputs": [],
   "source": [
    "df_recetas = df_recetas.rename(columns={ 'nombre_compilación': 'nombre_compilacion', 'descripción_compilación':'descripcion_compilacion' })"
   ]
  },
  {
   "cell_type": "code",
   "execution_count": 8,
   "metadata": {},
   "outputs": [],
   "source": [
    "df_ejercicios.head()\n",
    "df_ejercicios = df_ejercicios.rename(columns={ 'músculo': 'musculo'})\n"
   ]
  },
  {
   "cell_type": "code",
   "execution_count": 9,
   "metadata": {},
   "outputs": [],
   "source": [
    "df_productos_fit\n",
    "df_productos_fit['tipo_producto'] = 'suplemento'"
   ]
  },
  {
   "cell_type": "code",
   "execution_count": 10,
   "metadata": {},
   "outputs": [
    {
     "name": "stdout",
     "output_type": "stream",
     "text": [
      "Datos insertados en las tablas correspondientes.\n"
     ]
    }
   ],
   "source": [
    "st.insertar_datos(df_productos_fit, df_productos_precios, df_recetas, df_ejercicios, conexion)"
   ]
  }
 ],
 "metadata": {
  "kernelspec": {
   "display_name": "Python 3",
   "language": "python",
   "name": "python3"
  },
  "language_info": {
   "codemirror_mode": {
    "name": "ipython",
    "version": 3
   },
   "file_extension": ".py",
   "mimetype": "text/x-python",
   "name": "python",
   "nbconvert_exporter": "python",
   "pygments_lexer": "ipython3",
   "version": "3.12.6"
  }
 },
 "nbformat": 4,
 "nbformat_minor": 2
}
