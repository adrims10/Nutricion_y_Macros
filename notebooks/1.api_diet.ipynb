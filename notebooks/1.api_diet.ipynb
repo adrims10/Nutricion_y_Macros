{
 "cells": [
  {
   "cell_type": "code",
   "execution_count": 1,
   "metadata": {},
   "outputs": [],
   "source": [
    "import requests\n",
    "import json\n",
    "import pandas as pd\n",
    "import sys\n",
    "import os\n",
    "sys.path.append(os.path.abspath('../'))\n",
    "from src import soporte_dietas as sd\n",
    "import dotenv \n",
    "dotenv.load_dotenv()\n",
    "key = os.getenv(\"key\")\n"
   ]
  },
  {
   "cell_type": "code",
   "execution_count": 7,
   "metadata": {},
   "outputs": [
    {
     "name": "stdout",
     "output_type": "stream",
     "text": [
      "Error en la rutina 992: 429\n",
      "{\"message\":\"You have exceeded the rate limit per hour for your plan, BASIC, by the API provider\"}\n"
     ]
    }
   ],
   "source": [
    "def obtener_rutinas(api_key, num_rutinas=1000):\n",
    "    \"\"\"\n",
    "    Obtiene un número específico de rutinas de ejercicio de una API externa.\n",
    "    \n",
    "    Args:\n",
    "        api_key (str): La clave de API para autenticar la solicitud.\n",
    "        num_rutinas (int): El número de rutinas a obtener. El valor por defecto es 1000.\n",
    "\n",
    "    Returns:\n",
    "        list: Una lista de diccionarios que representan las rutinas obtenidas de la API.\n",
    "    \"\"\"\n",
    "    # URL de la API para obtener ejercicios\n",
    "    url = \"https://exercises-by-api-ninjas.p.rapidapi.com/v1/exercises\"\n",
    "    \n",
    "    \n",
    "    headers = {\n",
    "        \"x-rapidapi-key\": api_key,  # La clave de API proporcionada\n",
    "        \"x-rapidapi-host\": \"exercises-by-api-ninjas.p.rapidapi.com\"  # Host de la API\n",
    "    }\n",
    "\n",
    "    todas_rutinas = []  \n",
    "    \n",
    "    # Bucle para obtener el número deseado de rutinas\n",
    "    for i in range(num_rutinas):\n",
    "        # Parámetros de consulta para filtrar rutinas de tipo \"cardio\" y dificultad \"intermediate\"\n",
    "        querystring = {\"type\": \"cardio\", \"difficulty\": \"intermediate\"}\n",
    "        \n",
    "        # Realiza la solicitud GET a la API\n",
    "        response = requests.get(url, headers=headers, params=querystring)\n",
    "        \n",
    "        # Verifica si la respuesta es exitosa\n",
    "        if response.status_code == 200:\n",
    "            # Si la respuesta es correcta, se convierte el JSON a un objeto de Python\n",
    "            data = response.json()\n",
    "            # Se agrega la nueva información a la lista de todas las rutinas\n",
    "            todas_rutinas.extend(data)\n",
    "            \n",
    "        else:\n",
    "            print(f\"Error en la rutina {i + 1}: {response.status_code}\")\n",
    "            print(response.text)\n",
    "            break  \n",
    "\n",
    "    return todas_rutinas \n"
   ]
  },
  {
   "cell_type": "code",
   "execution_count": null,
   "metadata": {},
   "outputs": [],
   "source": [
    "df= pd.todas_rutinas                "
   ]
  },
  {
   "cell_type": "code",
   "execution_count": 9,
   "metadata": {},
   "outputs": [],
   "source": [
    "nombres_columnas = {\n",
    "    'name': 'nombre',\n",
    "    'type': 'tipo',\n",
    "    'muscle': 'músculo',\n",
    "    'equipment': 'equipo',\n",
    "    'difficulty': 'dificultad',\n",
    "    'instructions': 'instrucciones'}\n",
    "\n",
    "df.rename(columns=nombres_columnas, inplace=True)                   #renombramos las columnas"
   ]
  },
  {
   "cell_type": "code",
   "execution_count": null,
   "metadata": {},
   "outputs": [],
   "source": [
    "df.to_csv('../datos/rutinas.csv', index=False)              #guardamos a csv"
   ]
  }
 ],
 "metadata": {
  "kernelspec": {
   "display_name": "Python 3",
   "language": "python",
   "name": "python3"
  },
  "language_info": {
   "codemirror_mode": {
    "name": "ipython",
    "version": 3
   },
   "file_extension": ".py",
   "mimetype": "text/x-python",
   "name": "python",
   "nbconvert_exporter": "python",
   "pygments_lexer": "ipython3",
   "version": "3.12.6"
  }
 },
 "nbformat": 4,
 "nbformat_minor": 2
}
